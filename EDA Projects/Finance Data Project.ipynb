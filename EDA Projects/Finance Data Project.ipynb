{
 "cells": [
  {
   "attachments": {},
   "cell_type": "markdown",
   "metadata": {},
   "source": [
    "# <h1 style='text-align : center; color:green'> Finance Data Project </h1> <br>\n",
    "<p style='float:right'> Aamir Mohiuddin Malla </p>\n",
    "\n",
    "---"
   ]
  },
  {
   "attachments": {},
   "cell_type": "markdown",
   "metadata": {},
   "source": [
    "### Introduction\n",
    "*In this data project, we focus on EDA of stock prices.*"
   ]
  },
  {
   "attachments": {},
   "cell_type": "markdown",
   "metadata": {},
   "source": [
    "### Get the Data\n",
    "Here we will get the data directly from Google Finance using pandas!\n",
    "\n",
    "First we need to start with the proper imports.\n",
    "* Note: We'll need to install **yfinance** for this work. *Pandas datareader allow us to read stock information directly from the internet.*\n",
    "\n",
    "    pip install yfinance"
   ]
  },
  {
   "attachments": {},
   "cell_type": "markdown",
   "metadata": {},
   "source": [
    "### The Imports"
   ]
  },
  {
   "cell_type": "code",
   "execution_count": 1,
   "metadata": {},
   "outputs": [],
   "source": [
    "import yfinance as yf\n",
    "import pandas as pd\n",
    "import numpy as np\n",
    "import datetime\n",
    "%matplotlib inline"
   ]
  },
  {
   "attachments": {},
   "cell_type": "markdown",
   "metadata": {},
   "source": [
    "### Data\n",
    "We need to get data using pandas datareader. We will get stock information for the following banks:\n",
    "* Bank of America\n",
    "* CitiGroup\n",
    "* Goldman Sachs\n",
    "* JPMorgan Chase\n",
    "* Wells Fargo\n",
    "\n",
    "We will get the data from Jan 1st 2006 to Jan Ist 2016 for each of these banks. {Setting each bank to be a separate dataframe, with the variable name for that bank being its ticker symbool}. This will involve a few steps:\n",
    "\n",
    "i. User **datetime** to set start and end datetime objects.\n",
    "ii. Figure out the ticker symbol for each bank.\n",
    "iii. Figure out how to use datareader to grab info on the stock.\n",
    "\n",
    "    # Bank of America\n",
    "    BAC = yf.download(\"BAC\",'google', start, end)\n"
   ]
  },
  {
   "cell_type": "code",
   "execution_count": 2,
   "metadata": {},
   "outputs": [],
   "source": [
    "start_date = datetime.datetime(2006,1,1)\n",
    "end_date = datetime.datetime(2016,1,1)"
   ]
  },
  {
   "cell_type": "code",
   "execution_count": 3,
   "metadata": {},
   "outputs": [
    {
     "name": "stdout",
     "output_type": "stream",
     "text": [
      "[*********************100%***********************]  1 of 1 completed\n"
     ]
    }
   ],
   "source": [
    "# Bank of America\n",
    "BAC = yf.download('BAC', start_date, end_date)"
   ]
  },
  {
   "cell_type": "code",
   "execution_count": 4,
   "metadata": {},
   "outputs": [
    {
     "data": {
      "text/html": [
       "<div>\n",
       "<style scoped>\n",
       "    .dataframe tbody tr th:only-of-type {\n",
       "        vertical-align: middle;\n",
       "    }\n",
       "\n",
       "    .dataframe tbody tr th {\n",
       "        vertical-align: top;\n",
       "    }\n",
       "\n",
       "    .dataframe thead th {\n",
       "        text-align: right;\n",
       "    }\n",
       "</style>\n",
       "<table border=\"1\" class=\"dataframe\">\n",
       "  <thead>\n",
       "    <tr style=\"text-align: right;\">\n",
       "      <th></th>\n",
       "      <th>Open</th>\n",
       "      <th>High</th>\n",
       "      <th>Low</th>\n",
       "      <th>Close</th>\n",
       "      <th>Adj Close</th>\n",
       "      <th>Volume</th>\n",
       "    </tr>\n",
       "    <tr>\n",
       "      <th>Date</th>\n",
       "      <th></th>\n",
       "      <th></th>\n",
       "      <th></th>\n",
       "      <th></th>\n",
       "      <th></th>\n",
       "      <th></th>\n",
       "    </tr>\n",
       "  </thead>\n",
       "  <tbody>\n",
       "    <tr>\n",
       "      <th>2006-01-03 00:00:00-05:00</th>\n",
       "      <td>46.919998</td>\n",
       "      <td>47.180000</td>\n",
       "      <td>46.150002</td>\n",
       "      <td>47.080002</td>\n",
       "      <td>33.170307</td>\n",
       "      <td>16296700</td>\n",
       "    </tr>\n",
       "    <tr>\n",
       "      <th>2006-01-04 00:00:00-05:00</th>\n",
       "      <td>47.000000</td>\n",
       "      <td>47.240002</td>\n",
       "      <td>46.450001</td>\n",
       "      <td>46.580002</td>\n",
       "      <td>32.818043</td>\n",
       "      <td>17757900</td>\n",
       "    </tr>\n",
       "    <tr>\n",
       "      <th>2006-01-05 00:00:00-05:00</th>\n",
       "      <td>46.580002</td>\n",
       "      <td>46.830002</td>\n",
       "      <td>46.320000</td>\n",
       "      <td>46.639999</td>\n",
       "      <td>32.860302</td>\n",
       "      <td>14970700</td>\n",
       "    </tr>\n",
       "    <tr>\n",
       "      <th>2006-01-06 00:00:00-05:00</th>\n",
       "      <td>46.799999</td>\n",
       "      <td>46.910000</td>\n",
       "      <td>46.349998</td>\n",
       "      <td>46.570000</td>\n",
       "      <td>32.810989</td>\n",
       "      <td>12599800</td>\n",
       "    </tr>\n",
       "    <tr>\n",
       "      <th>2006-01-09 00:00:00-05:00</th>\n",
       "      <td>46.720001</td>\n",
       "      <td>46.970001</td>\n",
       "      <td>46.360001</td>\n",
       "      <td>46.599998</td>\n",
       "      <td>32.832127</td>\n",
       "      <td>15619400</td>\n",
       "    </tr>\n",
       "  </tbody>\n",
       "</table>\n",
       "</div>"
      ],
      "text/plain": [
       "                                Open       High        Low      Close  \\\n",
       "Date                                                                    \n",
       "2006-01-03 00:00:00-05:00  46.919998  47.180000  46.150002  47.080002   \n",
       "2006-01-04 00:00:00-05:00  47.000000  47.240002  46.450001  46.580002   \n",
       "2006-01-05 00:00:00-05:00  46.580002  46.830002  46.320000  46.639999   \n",
       "2006-01-06 00:00:00-05:00  46.799999  46.910000  46.349998  46.570000   \n",
       "2006-01-09 00:00:00-05:00  46.720001  46.970001  46.360001  46.599998   \n",
       "\n",
       "                           Adj Close    Volume  \n",
       "Date                                            \n",
       "2006-01-03 00:00:00-05:00  33.170307  16296700  \n",
       "2006-01-04 00:00:00-05:00  32.818043  17757900  \n",
       "2006-01-05 00:00:00-05:00  32.860302  14970700  \n",
       "2006-01-06 00:00:00-05:00  32.810989  12599800  \n",
       "2006-01-09 00:00:00-05:00  32.832127  15619400  "
      ]
     },
     "execution_count": 4,
     "metadata": {},
     "output_type": "execute_result"
    }
   ],
   "source": [
    "BAC.head()"
   ]
  },
  {
   "cell_type": "code",
   "execution_count": 5,
   "metadata": {},
   "outputs": [
    {
     "name": "stdout",
     "output_type": "stream",
     "text": [
      "[*********************100%***********************]  6 of 6 completed\n"
     ]
    }
   ],
   "source": [
    "#we can read stock information of required banks simultaneaously as\n",
    "ticker = 'BAC C GS JPM MS WFC'\n",
    "bank_stocks = yf.download(ticker, start_date, end_date)"
   ]
  },
  {
   "cell_type": "code",
   "execution_count": 6,
   "metadata": {},
   "outputs": [
    {
     "data": {
      "text/html": [
       "<div>\n",
       "<style scoped>\n",
       "    .dataframe tbody tr th:only-of-type {\n",
       "        vertical-align: middle;\n",
       "    }\n",
       "\n",
       "    .dataframe tbody tr th {\n",
       "        vertical-align: top;\n",
       "    }\n",
       "\n",
       "    .dataframe thead tr th {\n",
       "        text-align: left;\n",
       "    }\n",
       "\n",
       "    .dataframe thead tr:last-of-type th {\n",
       "        text-align: right;\n",
       "    }\n",
       "</style>\n",
       "<table border=\"1\" class=\"dataframe\">\n",
       "  <thead>\n",
       "    <tr>\n",
       "      <th></th>\n",
       "      <th colspan=\"6\" halign=\"left\">Adj Close</th>\n",
       "      <th colspan=\"4\" halign=\"left\">Close</th>\n",
       "      <th>...</th>\n",
       "      <th colspan=\"4\" halign=\"left\">Open</th>\n",
       "      <th colspan=\"6\" halign=\"left\">Volume</th>\n",
       "    </tr>\n",
       "    <tr>\n",
       "      <th></th>\n",
       "      <th>BAC</th>\n",
       "      <th>C</th>\n",
       "      <th>GS</th>\n",
       "      <th>JPM</th>\n",
       "      <th>MS</th>\n",
       "      <th>WFC</th>\n",
       "      <th>BAC</th>\n",
       "      <th>C</th>\n",
       "      <th>GS</th>\n",
       "      <th>JPM</th>\n",
       "      <th>...</th>\n",
       "      <th>GS</th>\n",
       "      <th>JPM</th>\n",
       "      <th>MS</th>\n",
       "      <th>WFC</th>\n",
       "      <th>BAC</th>\n",
       "      <th>C</th>\n",
       "      <th>GS</th>\n",
       "      <th>JPM</th>\n",
       "      <th>MS</th>\n",
       "      <th>WFC</th>\n",
       "    </tr>\n",
       "    <tr>\n",
       "      <th>Date</th>\n",
       "      <th></th>\n",
       "      <th></th>\n",
       "      <th></th>\n",
       "      <th></th>\n",
       "      <th></th>\n",
       "      <th></th>\n",
       "      <th></th>\n",
       "      <th></th>\n",
       "      <th></th>\n",
       "      <th></th>\n",
       "      <th></th>\n",
       "      <th></th>\n",
       "      <th></th>\n",
       "      <th></th>\n",
       "      <th></th>\n",
       "      <th></th>\n",
       "      <th></th>\n",
       "      <th></th>\n",
       "      <th></th>\n",
       "      <th></th>\n",
       "      <th></th>\n",
       "    </tr>\n",
       "  </thead>\n",
       "  <tbody>\n",
       "    <tr>\n",
       "      <th>2006-01-03 00:00:00-05:00</th>\n",
       "      <td>33.170319</td>\n",
       "      <td>354.033661</td>\n",
       "      <td>101.194168</td>\n",
       "      <td>25.504066</td>\n",
       "      <td>34.886642</td>\n",
       "      <td>19.975798</td>\n",
       "      <td>47.080002</td>\n",
       "      <td>492.899994</td>\n",
       "      <td>128.869995</td>\n",
       "      <td>40.189999</td>\n",
       "      <td>...</td>\n",
       "      <td>126.699997</td>\n",
       "      <td>39.830002</td>\n",
       "      <td>57.169998</td>\n",
       "      <td>31.600000</td>\n",
       "      <td>16296700</td>\n",
       "      <td>1537600</td>\n",
       "      <td>6188700</td>\n",
       "      <td>12838600</td>\n",
       "      <td>5377000</td>\n",
       "      <td>11016400</td>\n",
       "    </tr>\n",
       "    <tr>\n",
       "      <th>2006-01-04 00:00:00-05:00</th>\n",
       "      <td>32.818031</td>\n",
       "      <td>347.497375</td>\n",
       "      <td>99.796448</td>\n",
       "      <td>25.356873</td>\n",
       "      <td>34.910568</td>\n",
       "      <td>19.744108</td>\n",
       "      <td>46.580002</td>\n",
       "      <td>483.799988</td>\n",
       "      <td>127.089996</td>\n",
       "      <td>39.619999</td>\n",
       "      <td>...</td>\n",
       "      <td>127.349998</td>\n",
       "      <td>39.779999</td>\n",
       "      <td>58.700001</td>\n",
       "      <td>31.799999</td>\n",
       "      <td>17757900</td>\n",
       "      <td>1870960</td>\n",
       "      <td>4861600</td>\n",
       "      <td>13491500</td>\n",
       "      <td>7977800</td>\n",
       "      <td>10870000</td>\n",
       "    </tr>\n",
       "    <tr>\n",
       "      <th>2006-01-05 00:00:00-05:00</th>\n",
       "      <td>32.860294</td>\n",
       "      <td>349.221283</td>\n",
       "      <td>99.757187</td>\n",
       "      <td>25.433681</td>\n",
       "      <td>35.006298</td>\n",
       "      <td>19.722189</td>\n",
       "      <td>46.639999</td>\n",
       "      <td>486.200012</td>\n",
       "      <td>127.040001</td>\n",
       "      <td>39.740002</td>\n",
       "      <td>...</td>\n",
       "      <td>126.000000</td>\n",
       "      <td>39.610001</td>\n",
       "      <td>58.549999</td>\n",
       "      <td>31.500000</td>\n",
       "      <td>14970700</td>\n",
       "      <td>1143160</td>\n",
       "      <td>3717400</td>\n",
       "      <td>8109400</td>\n",
       "      <td>5778000</td>\n",
       "      <td>10158000</td>\n",
       "    </tr>\n",
       "    <tr>\n",
       "      <th>2006-01-06 00:00:00-05:00</th>\n",
       "      <td>32.810997</td>\n",
       "      <td>349.221283</td>\n",
       "      <td>101.170609</td>\n",
       "      <td>25.612883</td>\n",
       "      <td>35.042191</td>\n",
       "      <td>19.838036</td>\n",
       "      <td>46.570000</td>\n",
       "      <td>486.200012</td>\n",
       "      <td>128.839996</td>\n",
       "      <td>40.020000</td>\n",
       "      <td>...</td>\n",
       "      <td>127.290001</td>\n",
       "      <td>39.919998</td>\n",
       "      <td>58.770000</td>\n",
       "      <td>31.580000</td>\n",
       "      <td>12599800</td>\n",
       "      <td>1370210</td>\n",
       "      <td>4319600</td>\n",
       "      <td>7966900</td>\n",
       "      <td>6889800</td>\n",
       "      <td>8403800</td>\n",
       "    </tr>\n",
       "    <tr>\n",
       "      <th>2006-01-09 00:00:00-05:00</th>\n",
       "      <td>32.832134</td>\n",
       "      <td>347.569122</td>\n",
       "      <td>102.387741</td>\n",
       "      <td>26.028873</td>\n",
       "      <td>35.413124</td>\n",
       "      <td>19.834909</td>\n",
       "      <td>46.599998</td>\n",
       "      <td>483.899994</td>\n",
       "      <td>130.389999</td>\n",
       "      <td>40.669998</td>\n",
       "      <td>...</td>\n",
       "      <td>128.500000</td>\n",
       "      <td>39.880001</td>\n",
       "      <td>58.630001</td>\n",
       "      <td>31.674999</td>\n",
       "      <td>15619400</td>\n",
       "      <td>1680740</td>\n",
       "      <td>4723500</td>\n",
       "      <td>16575200</td>\n",
       "      <td>4144500</td>\n",
       "      <td>5619600</td>\n",
       "    </tr>\n",
       "  </tbody>\n",
       "</table>\n",
       "<p>5 rows × 36 columns</p>\n",
       "</div>"
      ],
      "text/plain": [
       "                           Adj Close                                     \\\n",
       "                                 BAC           C          GS        JPM   \n",
       "Date                                                                      \n",
       "2006-01-03 00:00:00-05:00  33.170319  354.033661  101.194168  25.504066   \n",
       "2006-01-04 00:00:00-05:00  32.818031  347.497375   99.796448  25.356873   \n",
       "2006-01-05 00:00:00-05:00  32.860294  349.221283   99.757187  25.433681   \n",
       "2006-01-06 00:00:00-05:00  32.810997  349.221283  101.170609  25.612883   \n",
       "2006-01-09 00:00:00-05:00  32.832134  347.569122  102.387741  26.028873   \n",
       "\n",
       "                                                     Close              \\\n",
       "                                  MS        WFC        BAC           C   \n",
       "Date                                                                     \n",
       "2006-01-03 00:00:00-05:00  34.886642  19.975798  47.080002  492.899994   \n",
       "2006-01-04 00:00:00-05:00  34.910568  19.744108  46.580002  483.799988   \n",
       "2006-01-05 00:00:00-05:00  35.006298  19.722189  46.639999  486.200012   \n",
       "2006-01-06 00:00:00-05:00  35.042191  19.838036  46.570000  486.200012   \n",
       "2006-01-09 00:00:00-05:00  35.413124  19.834909  46.599998  483.899994   \n",
       "\n",
       "                                                  ...        Open             \\\n",
       "                                   GS        JPM  ...          GS        JPM   \n",
       "Date                                              ...                          \n",
       "2006-01-03 00:00:00-05:00  128.869995  40.189999  ...  126.699997  39.830002   \n",
       "2006-01-04 00:00:00-05:00  127.089996  39.619999  ...  127.349998  39.779999   \n",
       "2006-01-05 00:00:00-05:00  127.040001  39.740002  ...  126.000000  39.610001   \n",
       "2006-01-06 00:00:00-05:00  128.839996  40.020000  ...  127.290001  39.919998   \n",
       "2006-01-09 00:00:00-05:00  130.389999  40.669998  ...  128.500000  39.880001   \n",
       "\n",
       "                                                   Volume                    \\\n",
       "                                  MS        WFC       BAC        C       GS   \n",
       "Date                                                                          \n",
       "2006-01-03 00:00:00-05:00  57.169998  31.600000  16296700  1537600  6188700   \n",
       "2006-01-04 00:00:00-05:00  58.700001  31.799999  17757900  1870960  4861600   \n",
       "2006-01-05 00:00:00-05:00  58.549999  31.500000  14970700  1143160  3717400   \n",
       "2006-01-06 00:00:00-05:00  58.770000  31.580000  12599800  1370210  4319600   \n",
       "2006-01-09 00:00:00-05:00  58.630001  31.674999  15619400  1680740  4723500   \n",
       "\n",
       "                                                        \n",
       "                                JPM       MS       WFC  \n",
       "Date                                                    \n",
       "2006-01-03 00:00:00-05:00  12838600  5377000  11016400  \n",
       "2006-01-04 00:00:00-05:00  13491500  7977800  10870000  \n",
       "2006-01-05 00:00:00-05:00   8109400  5778000  10158000  \n",
       "2006-01-06 00:00:00-05:00   7966900  6889800   8403800  \n",
       "2006-01-09 00:00:00-05:00  16575200  4144500   5619600  \n",
       "\n",
       "[5 rows x 36 columns]"
      ]
     },
     "execution_count": 6,
     "metadata": {},
     "output_type": "execute_result"
    }
   ],
   "source": [
    "#check data\n",
    "bank_stocks.head()"
   ]
  },
  {
   "cell_type": "code",
   "execution_count": 7,
   "metadata": {},
   "outputs": [],
   "source": [
    "df = bank_stocks.copy(deep=True)"
   ]
  },
  {
   "cell_type": "code",
   "execution_count": 8,
   "metadata": {},
   "outputs": [
    {
     "data": {
      "text/html": [
       "<div>\n",
       "<style scoped>\n",
       "    .dataframe tbody tr th:only-of-type {\n",
       "        vertical-align: middle;\n",
       "    }\n",
       "\n",
       "    .dataframe tbody tr th {\n",
       "        vertical-align: top;\n",
       "    }\n",
       "\n",
       "    .dataframe thead tr th {\n",
       "        text-align: left;\n",
       "    }\n",
       "\n",
       "    .dataframe thead tr:last-of-type th {\n",
       "        text-align: right;\n",
       "    }\n",
       "</style>\n",
       "<table border=\"1\" class=\"dataframe\">\n",
       "  <thead>\n",
       "    <tr>\n",
       "      <th></th>\n",
       "      <th colspan=\"6\" halign=\"left\">Adj Close</th>\n",
       "      <th colspan=\"4\" halign=\"left\">Close</th>\n",
       "      <th>...</th>\n",
       "      <th colspan=\"4\" halign=\"left\">Open</th>\n",
       "      <th colspan=\"6\" halign=\"left\">Volume</th>\n",
       "    </tr>\n",
       "    <tr>\n",
       "      <th></th>\n",
       "      <th>BAC</th>\n",
       "      <th>C</th>\n",
       "      <th>GS</th>\n",
       "      <th>JPM</th>\n",
       "      <th>MS</th>\n",
       "      <th>WFC</th>\n",
       "      <th>BAC</th>\n",
       "      <th>C</th>\n",
       "      <th>GS</th>\n",
       "      <th>JPM</th>\n",
       "      <th>...</th>\n",
       "      <th>GS</th>\n",
       "      <th>JPM</th>\n",
       "      <th>MS</th>\n",
       "      <th>WFC</th>\n",
       "      <th>BAC</th>\n",
       "      <th>C</th>\n",
       "      <th>GS</th>\n",
       "      <th>JPM</th>\n",
       "      <th>MS</th>\n",
       "      <th>WFC</th>\n",
       "    </tr>\n",
       "    <tr>\n",
       "      <th>Date</th>\n",
       "      <th></th>\n",
       "      <th></th>\n",
       "      <th></th>\n",
       "      <th></th>\n",
       "      <th></th>\n",
       "      <th></th>\n",
       "      <th></th>\n",
       "      <th></th>\n",
       "      <th></th>\n",
       "      <th></th>\n",
       "      <th></th>\n",
       "      <th></th>\n",
       "      <th></th>\n",
       "      <th></th>\n",
       "      <th></th>\n",
       "      <th></th>\n",
       "      <th></th>\n",
       "      <th></th>\n",
       "      <th></th>\n",
       "      <th></th>\n",
       "      <th></th>\n",
       "    </tr>\n",
       "  </thead>\n",
       "  <tbody>\n",
       "    <tr>\n",
       "      <th>2006-01-03 00:00:00-05:00</th>\n",
       "      <td>33.170319</td>\n",
       "      <td>354.033661</td>\n",
       "      <td>101.194168</td>\n",
       "      <td>25.504066</td>\n",
       "      <td>34.886642</td>\n",
       "      <td>19.975798</td>\n",
       "      <td>47.080002</td>\n",
       "      <td>492.899994</td>\n",
       "      <td>128.869995</td>\n",
       "      <td>40.189999</td>\n",
       "      <td>...</td>\n",
       "      <td>126.699997</td>\n",
       "      <td>39.830002</td>\n",
       "      <td>57.169998</td>\n",
       "      <td>31.600000</td>\n",
       "      <td>16296700</td>\n",
       "      <td>1537600</td>\n",
       "      <td>6188700</td>\n",
       "      <td>12838600</td>\n",
       "      <td>5377000</td>\n",
       "      <td>11016400</td>\n",
       "    </tr>\n",
       "    <tr>\n",
       "      <th>2006-01-04 00:00:00-05:00</th>\n",
       "      <td>32.818031</td>\n",
       "      <td>347.497375</td>\n",
       "      <td>99.796448</td>\n",
       "      <td>25.356873</td>\n",
       "      <td>34.910568</td>\n",
       "      <td>19.744108</td>\n",
       "      <td>46.580002</td>\n",
       "      <td>483.799988</td>\n",
       "      <td>127.089996</td>\n",
       "      <td>39.619999</td>\n",
       "      <td>...</td>\n",
       "      <td>127.349998</td>\n",
       "      <td>39.779999</td>\n",
       "      <td>58.700001</td>\n",
       "      <td>31.799999</td>\n",
       "      <td>17757900</td>\n",
       "      <td>1870960</td>\n",
       "      <td>4861600</td>\n",
       "      <td>13491500</td>\n",
       "      <td>7977800</td>\n",
       "      <td>10870000</td>\n",
       "    </tr>\n",
       "    <tr>\n",
       "      <th>2006-01-05 00:00:00-05:00</th>\n",
       "      <td>32.860294</td>\n",
       "      <td>349.221283</td>\n",
       "      <td>99.757187</td>\n",
       "      <td>25.433681</td>\n",
       "      <td>35.006298</td>\n",
       "      <td>19.722189</td>\n",
       "      <td>46.639999</td>\n",
       "      <td>486.200012</td>\n",
       "      <td>127.040001</td>\n",
       "      <td>39.740002</td>\n",
       "      <td>...</td>\n",
       "      <td>126.000000</td>\n",
       "      <td>39.610001</td>\n",
       "      <td>58.549999</td>\n",
       "      <td>31.500000</td>\n",
       "      <td>14970700</td>\n",
       "      <td>1143160</td>\n",
       "      <td>3717400</td>\n",
       "      <td>8109400</td>\n",
       "      <td>5778000</td>\n",
       "      <td>10158000</td>\n",
       "    </tr>\n",
       "    <tr>\n",
       "      <th>2006-01-06 00:00:00-05:00</th>\n",
       "      <td>32.810997</td>\n",
       "      <td>349.221283</td>\n",
       "      <td>101.170609</td>\n",
       "      <td>25.612883</td>\n",
       "      <td>35.042191</td>\n",
       "      <td>19.838036</td>\n",
       "      <td>46.570000</td>\n",
       "      <td>486.200012</td>\n",
       "      <td>128.839996</td>\n",
       "      <td>40.020000</td>\n",
       "      <td>...</td>\n",
       "      <td>127.290001</td>\n",
       "      <td>39.919998</td>\n",
       "      <td>58.770000</td>\n",
       "      <td>31.580000</td>\n",
       "      <td>12599800</td>\n",
       "      <td>1370210</td>\n",
       "      <td>4319600</td>\n",
       "      <td>7966900</td>\n",
       "      <td>6889800</td>\n",
       "      <td>8403800</td>\n",
       "    </tr>\n",
       "    <tr>\n",
       "      <th>2006-01-09 00:00:00-05:00</th>\n",
       "      <td>32.832134</td>\n",
       "      <td>347.569122</td>\n",
       "      <td>102.387741</td>\n",
       "      <td>26.028873</td>\n",
       "      <td>35.413124</td>\n",
       "      <td>19.834909</td>\n",
       "      <td>46.599998</td>\n",
       "      <td>483.899994</td>\n",
       "      <td>130.389999</td>\n",
       "      <td>40.669998</td>\n",
       "      <td>...</td>\n",
       "      <td>128.500000</td>\n",
       "      <td>39.880001</td>\n",
       "      <td>58.630001</td>\n",
       "      <td>31.674999</td>\n",
       "      <td>15619400</td>\n",
       "      <td>1680740</td>\n",
       "      <td>4723500</td>\n",
       "      <td>16575200</td>\n",
       "      <td>4144500</td>\n",
       "      <td>5619600</td>\n",
       "    </tr>\n",
       "  </tbody>\n",
       "</table>\n",
       "<p>5 rows × 36 columns</p>\n",
       "</div>"
      ],
      "text/plain": [
       "                           Adj Close                                     \\\n",
       "                                 BAC           C          GS        JPM   \n",
       "Date                                                                      \n",
       "2006-01-03 00:00:00-05:00  33.170319  354.033661  101.194168  25.504066   \n",
       "2006-01-04 00:00:00-05:00  32.818031  347.497375   99.796448  25.356873   \n",
       "2006-01-05 00:00:00-05:00  32.860294  349.221283   99.757187  25.433681   \n",
       "2006-01-06 00:00:00-05:00  32.810997  349.221283  101.170609  25.612883   \n",
       "2006-01-09 00:00:00-05:00  32.832134  347.569122  102.387741  26.028873   \n",
       "\n",
       "                                                     Close              \\\n",
       "                                  MS        WFC        BAC           C   \n",
       "Date                                                                     \n",
       "2006-01-03 00:00:00-05:00  34.886642  19.975798  47.080002  492.899994   \n",
       "2006-01-04 00:00:00-05:00  34.910568  19.744108  46.580002  483.799988   \n",
       "2006-01-05 00:00:00-05:00  35.006298  19.722189  46.639999  486.200012   \n",
       "2006-01-06 00:00:00-05:00  35.042191  19.838036  46.570000  486.200012   \n",
       "2006-01-09 00:00:00-05:00  35.413124  19.834909  46.599998  483.899994   \n",
       "\n",
       "                                                  ...        Open             \\\n",
       "                                   GS        JPM  ...          GS        JPM   \n",
       "Date                                              ...                          \n",
       "2006-01-03 00:00:00-05:00  128.869995  40.189999  ...  126.699997  39.830002   \n",
       "2006-01-04 00:00:00-05:00  127.089996  39.619999  ...  127.349998  39.779999   \n",
       "2006-01-05 00:00:00-05:00  127.040001  39.740002  ...  126.000000  39.610001   \n",
       "2006-01-06 00:00:00-05:00  128.839996  40.020000  ...  127.290001  39.919998   \n",
       "2006-01-09 00:00:00-05:00  130.389999  40.669998  ...  128.500000  39.880001   \n",
       "\n",
       "                                                   Volume                    \\\n",
       "                                  MS        WFC       BAC        C       GS   \n",
       "Date                                                                          \n",
       "2006-01-03 00:00:00-05:00  57.169998  31.600000  16296700  1537600  6188700   \n",
       "2006-01-04 00:00:00-05:00  58.700001  31.799999  17757900  1870960  4861600   \n",
       "2006-01-05 00:00:00-05:00  58.549999  31.500000  14970700  1143160  3717400   \n",
       "2006-01-06 00:00:00-05:00  58.770000  31.580000  12599800  1370210  4319600   \n",
       "2006-01-09 00:00:00-05:00  58.630001  31.674999  15619400  1680740  4723500   \n",
       "\n",
       "                                                        \n",
       "                                JPM       MS       WFC  \n",
       "Date                                                    \n",
       "2006-01-03 00:00:00-05:00  12838600  5377000  11016400  \n",
       "2006-01-04 00:00:00-05:00  13491500  7977800  10870000  \n",
       "2006-01-05 00:00:00-05:00   8109400  5778000  10158000  \n",
       "2006-01-06 00:00:00-05:00   7966900  6889800   8403800  \n",
       "2006-01-09 00:00:00-05:00  16575200  4144500   5619600  \n",
       "\n",
       "[5 rows x 36 columns]"
      ]
     },
     "execution_count": 8,
     "metadata": {},
     "output_type": "execute_result"
    }
   ],
   "source": [
    "df.head()"
   ]
  },
  {
   "attachments": {},
   "cell_type": "markdown",
   "metadata": {},
   "source": [
    "### EDA\n",
    "---"
   ]
  },
  {
   "cell_type": "markdown",
   "metadata": {},
   "source": [
    "**1.  Max Closing Price for each banks throughout the time period.**"
   ]
  },
  {
   "cell_type": "code",
   "execution_count": 9,
   "metadata": {},
   "outputs": [
    {
     "data": {
      "text/plain": [
       "BAC     54.900002\n",
       "C      564.099976\n",
       "GS     247.919998\n",
       "JPM     70.080002\n",
       "MS      89.300003\n",
       "WFC     58.520000\n",
       "dtype: float64"
      ]
     },
     "execution_count": 9,
     "metadata": {},
     "output_type": "execute_result"
    }
   ],
   "source": [
    "df['Close'].max()"
   ]
  },
  {
   "attachments": {},
   "cell_type": "markdown",
   "metadata": {},
   "source": [
    "### Reading New Stocks - Microsoft, Apple and Google\n",
    "---"
   ]
  },
  {
   "cell_type": "code",
   "execution_count": 10,
   "metadata": {},
   "outputs": [
    {
     "name": "stdout",
     "output_type": "stream",
     "text": [
      "[*********************100%***********************]  1 of 1 completed\n"
     ]
    }
   ],
   "source": [
    "# if we read data separately\n",
    "MSFT = yf.download('MSFT',start_date,end_date)"
   ]
  },
  {
   "cell_type": "code",
   "execution_count": 11,
   "metadata": {},
   "outputs": [
    {
     "name": "stdout",
     "output_type": "stream",
     "text": [
      "[*********************100%***********************]  1 of 1 completed\n"
     ]
    }
   ],
   "source": [
    "AAPL = yf.download('AAPL', start_date, end_date)"
   ]
  },
  {
   "cell_type": "code",
   "execution_count": 12,
   "metadata": {},
   "outputs": [
    {
     "name": "stdout",
     "output_type": "stream",
     "text": [
      "[*********************100%***********************]  1 of 1 completed\n"
     ]
    }
   ],
   "source": [
    "GOOG = yf.download('GOOG',start_date,end_date)"
   ]
  },
  {
   "cell_type": "code",
   "execution_count": 13,
   "metadata": {},
   "outputs": [
    {
     "data": {
      "text/html": [
       "<div>\n",
       "<style scoped>\n",
       "    .dataframe tbody tr th:only-of-type {\n",
       "        vertical-align: middle;\n",
       "    }\n",
       "\n",
       "    .dataframe tbody tr th {\n",
       "        vertical-align: top;\n",
       "    }\n",
       "\n",
       "    .dataframe thead th {\n",
       "        text-align: right;\n",
       "    }\n",
       "</style>\n",
       "<table border=\"1\" class=\"dataframe\">\n",
       "  <thead>\n",
       "    <tr style=\"text-align: right;\">\n",
       "      <th></th>\n",
       "      <th>Open</th>\n",
       "      <th>High</th>\n",
       "      <th>Low</th>\n",
       "      <th>Close</th>\n",
       "      <th>Adj Close</th>\n",
       "      <th>Volume</th>\n",
       "    </tr>\n",
       "    <tr>\n",
       "      <th>Date</th>\n",
       "      <th></th>\n",
       "      <th></th>\n",
       "      <th></th>\n",
       "      <th></th>\n",
       "      <th></th>\n",
       "      <th></th>\n",
       "    </tr>\n",
       "  </thead>\n",
       "  <tbody>\n",
       "    <tr>\n",
       "      <th>2006-01-03 00:00:00-05:00</th>\n",
       "      <td>26.250000</td>\n",
       "      <td>27.000000</td>\n",
       "      <td>26.10</td>\n",
       "      <td>26.840000</td>\n",
       "      <td>19.162521</td>\n",
       "      <td>79973000</td>\n",
       "    </tr>\n",
       "    <tr>\n",
       "      <th>2006-01-04 00:00:00-05:00</th>\n",
       "      <td>26.770000</td>\n",
       "      <td>27.080000</td>\n",
       "      <td>26.77</td>\n",
       "      <td>26.969999</td>\n",
       "      <td>19.255331</td>\n",
       "      <td>57975600</td>\n",
       "    </tr>\n",
       "    <tr>\n",
       "      <th>2006-01-05 00:00:00-05:00</th>\n",
       "      <td>26.959999</td>\n",
       "      <td>27.129999</td>\n",
       "      <td>26.91</td>\n",
       "      <td>26.990000</td>\n",
       "      <td>19.269609</td>\n",
       "      <td>48245500</td>\n",
       "    </tr>\n",
       "    <tr>\n",
       "      <th>2006-01-06 00:00:00-05:00</th>\n",
       "      <td>26.889999</td>\n",
       "      <td>27.000000</td>\n",
       "      <td>26.49</td>\n",
       "      <td>26.910000</td>\n",
       "      <td>19.212486</td>\n",
       "      <td>100963000</td>\n",
       "    </tr>\n",
       "    <tr>\n",
       "      <th>2006-01-09 00:00:00-05:00</th>\n",
       "      <td>26.930000</td>\n",
       "      <td>27.070000</td>\n",
       "      <td>26.76</td>\n",
       "      <td>26.860001</td>\n",
       "      <td>19.176794</td>\n",
       "      <td>55625000</td>\n",
       "    </tr>\n",
       "  </tbody>\n",
       "</table>\n",
       "</div>"
      ],
      "text/plain": [
       "                                Open       High    Low      Close  Adj Close  \\\n",
       "Date                                                                           \n",
       "2006-01-03 00:00:00-05:00  26.250000  27.000000  26.10  26.840000  19.162521   \n",
       "2006-01-04 00:00:00-05:00  26.770000  27.080000  26.77  26.969999  19.255331   \n",
       "2006-01-05 00:00:00-05:00  26.959999  27.129999  26.91  26.990000  19.269609   \n",
       "2006-01-06 00:00:00-05:00  26.889999  27.000000  26.49  26.910000  19.212486   \n",
       "2006-01-09 00:00:00-05:00  26.930000  27.070000  26.76  26.860001  19.176794   \n",
       "\n",
       "                              Volume  \n",
       "Date                                  \n",
       "2006-01-03 00:00:00-05:00   79973000  \n",
       "2006-01-04 00:00:00-05:00   57975600  \n",
       "2006-01-05 00:00:00-05:00   48245500  \n",
       "2006-01-06 00:00:00-05:00  100963000  \n",
       "2006-01-09 00:00:00-05:00   55625000  "
      ]
     },
     "execution_count": 13,
     "metadata": {},
     "output_type": "execute_result"
    }
   ],
   "source": [
    "MSFT.head()"
   ]
  },
  {
   "cell_type": "code",
   "execution_count": 14,
   "metadata": {},
   "outputs": [
    {
     "data": {
      "text/html": [
       "<div>\n",
       "<style scoped>\n",
       "    .dataframe tbody tr th:only-of-type {\n",
       "        vertical-align: middle;\n",
       "    }\n",
       "\n",
       "    .dataframe tbody tr th {\n",
       "        vertical-align: top;\n",
       "    }\n",
       "\n",
       "    .dataframe thead th {\n",
       "        text-align: right;\n",
       "    }\n",
       "</style>\n",
       "<table border=\"1\" class=\"dataframe\">\n",
       "  <thead>\n",
       "    <tr style=\"text-align: right;\">\n",
       "      <th></th>\n",
       "      <th>Open</th>\n",
       "      <th>High</th>\n",
       "      <th>Low</th>\n",
       "      <th>Close</th>\n",
       "      <th>Adj Close</th>\n",
       "      <th>Volume</th>\n",
       "    </tr>\n",
       "    <tr>\n",
       "      <th>Date</th>\n",
       "      <th></th>\n",
       "      <th></th>\n",
       "      <th></th>\n",
       "      <th></th>\n",
       "      <th></th>\n",
       "      <th></th>\n",
       "    </tr>\n",
       "  </thead>\n",
       "  <tbody>\n",
       "    <tr>\n",
       "      <th>2006-01-03 00:00:00-05:00</th>\n",
       "      <td>2.585000</td>\n",
       "      <td>2.669643</td>\n",
       "      <td>2.580357</td>\n",
       "      <td>2.669643</td>\n",
       "      <td>2.275651</td>\n",
       "      <td>807234400</td>\n",
       "    </tr>\n",
       "    <tr>\n",
       "      <th>2006-01-04 00:00:00-05:00</th>\n",
       "      <td>2.683214</td>\n",
       "      <td>2.713571</td>\n",
       "      <td>2.660714</td>\n",
       "      <td>2.677500</td>\n",
       "      <td>2.282349</td>\n",
       "      <td>619603600</td>\n",
       "    </tr>\n",
       "    <tr>\n",
       "      <th>2006-01-05 00:00:00-05:00</th>\n",
       "      <td>2.672500</td>\n",
       "      <td>2.675000</td>\n",
       "      <td>2.633929</td>\n",
       "      <td>2.656429</td>\n",
       "      <td>2.264388</td>\n",
       "      <td>449422400</td>\n",
       "    </tr>\n",
       "    <tr>\n",
       "      <th>2006-01-06 00:00:00-05:00</th>\n",
       "      <td>2.687500</td>\n",
       "      <td>2.739286</td>\n",
       "      <td>2.662500</td>\n",
       "      <td>2.725000</td>\n",
       "      <td>2.322838</td>\n",
       "      <td>704457600</td>\n",
       "    </tr>\n",
       "    <tr>\n",
       "      <th>2006-01-09 00:00:00-05:00</th>\n",
       "      <td>2.740357</td>\n",
       "      <td>2.757143</td>\n",
       "      <td>2.705000</td>\n",
       "      <td>2.716071</td>\n",
       "      <td>2.315228</td>\n",
       "      <td>675040800</td>\n",
       "    </tr>\n",
       "  </tbody>\n",
       "</table>\n",
       "</div>"
      ],
      "text/plain": [
       "                               Open      High       Low     Close  Adj Close  \\\n",
       "Date                                                                           \n",
       "2006-01-03 00:00:00-05:00  2.585000  2.669643  2.580357  2.669643   2.275651   \n",
       "2006-01-04 00:00:00-05:00  2.683214  2.713571  2.660714  2.677500   2.282349   \n",
       "2006-01-05 00:00:00-05:00  2.672500  2.675000  2.633929  2.656429   2.264388   \n",
       "2006-01-06 00:00:00-05:00  2.687500  2.739286  2.662500  2.725000   2.322838   \n",
       "2006-01-09 00:00:00-05:00  2.740357  2.757143  2.705000  2.716071   2.315228   \n",
       "\n",
       "                              Volume  \n",
       "Date                                  \n",
       "2006-01-03 00:00:00-05:00  807234400  \n",
       "2006-01-04 00:00:00-05:00  619603600  \n",
       "2006-01-05 00:00:00-05:00  449422400  \n",
       "2006-01-06 00:00:00-05:00  704457600  \n",
       "2006-01-09 00:00:00-05:00  675040800  "
      ]
     },
     "execution_count": 14,
     "metadata": {},
     "output_type": "execute_result"
    }
   ],
   "source": [
    "AAPL.head()"
   ]
  },
  {
   "cell_type": "code",
   "execution_count": 15,
   "metadata": {},
   "outputs": [
    {
     "data": {
      "text/html": [
       "<div>\n",
       "<style scoped>\n",
       "    .dataframe tbody tr th:only-of-type {\n",
       "        vertical-align: middle;\n",
       "    }\n",
       "\n",
       "    .dataframe tbody tr th {\n",
       "        vertical-align: top;\n",
       "    }\n",
       "\n",
       "    .dataframe thead th {\n",
       "        text-align: right;\n",
       "    }\n",
       "</style>\n",
       "<table border=\"1\" class=\"dataframe\">\n",
       "  <thead>\n",
       "    <tr style=\"text-align: right;\">\n",
       "      <th></th>\n",
       "      <th>Open</th>\n",
       "      <th>High</th>\n",
       "      <th>Low</th>\n",
       "      <th>Close</th>\n",
       "      <th>Adj Close</th>\n",
       "      <th>Volume</th>\n",
       "    </tr>\n",
       "    <tr>\n",
       "      <th>Date</th>\n",
       "      <th></th>\n",
       "      <th></th>\n",
       "      <th></th>\n",
       "      <th></th>\n",
       "      <th></th>\n",
       "      <th></th>\n",
       "    </tr>\n",
       "  </thead>\n",
       "  <tbody>\n",
       "    <tr>\n",
       "      <th>2006-01-03 00:00:00-05:00</th>\n",
       "      <td>10.523555</td>\n",
       "      <td>10.851077</td>\n",
       "      <td>10.416457</td>\n",
       "      <td>10.840119</td>\n",
       "      <td>10.840119</td>\n",
       "      <td>526815259</td>\n",
       "    </tr>\n",
       "    <tr>\n",
       "      <th>2006-01-04 00:00:00-05:00</th>\n",
       "      <td>11.056059</td>\n",
       "      <td>11.182087</td>\n",
       "      <td>10.952697</td>\n",
       "      <td>11.089434</td>\n",
       "      <td>11.089434</td>\n",
       "      <td>613747887</td>\n",
       "    </tr>\n",
       "    <tr>\n",
       "      <th>2006-01-05 00:00:00-05:00</th>\n",
       "      <td>11.108363</td>\n",
       "      <td>11.246595</td>\n",
       "      <td>10.996283</td>\n",
       "      <td>11.238874</td>\n",
       "      <td>11.238874</td>\n",
       "      <td>433952486</td>\n",
       "    </tr>\n",
       "    <tr>\n",
       "      <th>2006-01-06 00:00:00-05:00</th>\n",
       "      <td>11.379098</td>\n",
       "      <td>11.718576</td>\n",
       "      <td>11.288687</td>\n",
       "      <td>11.598028</td>\n",
       "      <td>11.598028</td>\n",
       "      <td>712938289</td>\n",
       "    </tr>\n",
       "    <tr>\n",
       "      <th>2006-01-09 00:00:00-05:00</th>\n",
       "      <td>11.616708</td>\n",
       "      <td>11.790805</td>\n",
       "      <td>11.480468</td>\n",
       "      <td>11.628912</td>\n",
       "      <td>11.628912</td>\n",
       "      <td>513593887</td>\n",
       "    </tr>\n",
       "  </tbody>\n",
       "</table>\n",
       "</div>"
      ],
      "text/plain": [
       "                                Open       High        Low      Close  \\\n",
       "Date                                                                    \n",
       "2006-01-03 00:00:00-05:00  10.523555  10.851077  10.416457  10.840119   \n",
       "2006-01-04 00:00:00-05:00  11.056059  11.182087  10.952697  11.089434   \n",
       "2006-01-05 00:00:00-05:00  11.108363  11.246595  10.996283  11.238874   \n",
       "2006-01-06 00:00:00-05:00  11.379098  11.718576  11.288687  11.598028   \n",
       "2006-01-09 00:00:00-05:00  11.616708  11.790805  11.480468  11.628912   \n",
       "\n",
       "                           Adj Close     Volume  \n",
       "Date                                             \n",
       "2006-01-03 00:00:00-05:00  10.840119  526815259  \n",
       "2006-01-04 00:00:00-05:00  11.089434  613747887  \n",
       "2006-01-05 00:00:00-05:00  11.238874  433952486  \n",
       "2006-01-06 00:00:00-05:00  11.598028  712938289  \n",
       "2006-01-09 00:00:00-05:00  11.628912  513593887  "
      ]
     },
     "execution_count": 15,
     "metadata": {},
     "output_type": "execute_result"
    }
   ],
   "source": [
    "GOOG.head()"
   ]
  },
  {
   "attachments": {},
   "cell_type": "markdown",
   "metadata": {},
   "source": [
    "### Concatenating above DataFrames\n",
    "---"
   ]
  },
  {
   "cell_type": "code",
   "execution_count": 16,
   "metadata": {},
   "outputs": [],
   "source": [
    "#lets concat above three dataframe\n",
    "tickers = ['MSFT','AAPL','GOOG']\n",
    "tech_stocks = pd.concat([MSFT, AAPL, GOOG], axis=1, keys=tickers)"
   ]
  },
  {
   "cell_type": "code",
   "execution_count": 17,
   "metadata": {},
   "outputs": [
    {
     "data": {
      "text/html": [
       "<div>\n",
       "<style scoped>\n",
       "    .dataframe tbody tr th:only-of-type {\n",
       "        vertical-align: middle;\n",
       "    }\n",
       "\n",
       "    .dataframe tbody tr th {\n",
       "        vertical-align: top;\n",
       "    }\n",
       "\n",
       "    .dataframe thead tr th {\n",
       "        text-align: left;\n",
       "    }\n",
       "\n",
       "    .dataframe thead tr:last-of-type th {\n",
       "        text-align: right;\n",
       "    }\n",
       "</style>\n",
       "<table border=\"1\" class=\"dataframe\">\n",
       "  <thead>\n",
       "    <tr>\n",
       "      <th></th>\n",
       "      <th colspan=\"6\" halign=\"left\">MSFT</th>\n",
       "      <th colspan=\"6\" halign=\"left\">AAPL</th>\n",
       "      <th colspan=\"6\" halign=\"left\">GOOG</th>\n",
       "    </tr>\n",
       "    <tr>\n",
       "      <th></th>\n",
       "      <th>Open</th>\n",
       "      <th>High</th>\n",
       "      <th>Low</th>\n",
       "      <th>Close</th>\n",
       "      <th>Adj Close</th>\n",
       "      <th>Volume</th>\n",
       "      <th>Open</th>\n",
       "      <th>High</th>\n",
       "      <th>Low</th>\n",
       "      <th>Close</th>\n",
       "      <th>Adj Close</th>\n",
       "      <th>Volume</th>\n",
       "      <th>Open</th>\n",
       "      <th>High</th>\n",
       "      <th>Low</th>\n",
       "      <th>Close</th>\n",
       "      <th>Adj Close</th>\n",
       "      <th>Volume</th>\n",
       "    </tr>\n",
       "    <tr>\n",
       "      <th>Date</th>\n",
       "      <th></th>\n",
       "      <th></th>\n",
       "      <th></th>\n",
       "      <th></th>\n",
       "      <th></th>\n",
       "      <th></th>\n",
       "      <th></th>\n",
       "      <th></th>\n",
       "      <th></th>\n",
       "      <th></th>\n",
       "      <th></th>\n",
       "      <th></th>\n",
       "      <th></th>\n",
       "      <th></th>\n",
       "      <th></th>\n",
       "      <th></th>\n",
       "      <th></th>\n",
       "      <th></th>\n",
       "    </tr>\n",
       "  </thead>\n",
       "  <tbody>\n",
       "    <tr>\n",
       "      <th>2006-01-03 00:00:00-05:00</th>\n",
       "      <td>26.250000</td>\n",
       "      <td>27.000000</td>\n",
       "      <td>26.10</td>\n",
       "      <td>26.840000</td>\n",
       "      <td>19.162521</td>\n",
       "      <td>79973000</td>\n",
       "      <td>2.585000</td>\n",
       "      <td>2.669643</td>\n",
       "      <td>2.580357</td>\n",
       "      <td>2.669643</td>\n",
       "      <td>2.275651</td>\n",
       "      <td>807234400</td>\n",
       "      <td>10.523555</td>\n",
       "      <td>10.851077</td>\n",
       "      <td>10.416457</td>\n",
       "      <td>10.840119</td>\n",
       "      <td>10.840119</td>\n",
       "      <td>526815259</td>\n",
       "    </tr>\n",
       "    <tr>\n",
       "      <th>2006-01-04 00:00:00-05:00</th>\n",
       "      <td>26.770000</td>\n",
       "      <td>27.080000</td>\n",
       "      <td>26.77</td>\n",
       "      <td>26.969999</td>\n",
       "      <td>19.255331</td>\n",
       "      <td>57975600</td>\n",
       "      <td>2.683214</td>\n",
       "      <td>2.713571</td>\n",
       "      <td>2.660714</td>\n",
       "      <td>2.677500</td>\n",
       "      <td>2.282349</td>\n",
       "      <td>619603600</td>\n",
       "      <td>11.056059</td>\n",
       "      <td>11.182087</td>\n",
       "      <td>10.952697</td>\n",
       "      <td>11.089434</td>\n",
       "      <td>11.089434</td>\n",
       "      <td>613747887</td>\n",
       "    </tr>\n",
       "    <tr>\n",
       "      <th>2006-01-05 00:00:00-05:00</th>\n",
       "      <td>26.959999</td>\n",
       "      <td>27.129999</td>\n",
       "      <td>26.91</td>\n",
       "      <td>26.990000</td>\n",
       "      <td>19.269609</td>\n",
       "      <td>48245500</td>\n",
       "      <td>2.672500</td>\n",
       "      <td>2.675000</td>\n",
       "      <td>2.633929</td>\n",
       "      <td>2.656429</td>\n",
       "      <td>2.264388</td>\n",
       "      <td>449422400</td>\n",
       "      <td>11.108363</td>\n",
       "      <td>11.246595</td>\n",
       "      <td>10.996283</td>\n",
       "      <td>11.238874</td>\n",
       "      <td>11.238874</td>\n",
       "      <td>433952486</td>\n",
       "    </tr>\n",
       "    <tr>\n",
       "      <th>2006-01-06 00:00:00-05:00</th>\n",
       "      <td>26.889999</td>\n",
       "      <td>27.000000</td>\n",
       "      <td>26.49</td>\n",
       "      <td>26.910000</td>\n",
       "      <td>19.212486</td>\n",
       "      <td>100963000</td>\n",
       "      <td>2.687500</td>\n",
       "      <td>2.739286</td>\n",
       "      <td>2.662500</td>\n",
       "      <td>2.725000</td>\n",
       "      <td>2.322838</td>\n",
       "      <td>704457600</td>\n",
       "      <td>11.379098</td>\n",
       "      <td>11.718576</td>\n",
       "      <td>11.288687</td>\n",
       "      <td>11.598028</td>\n",
       "      <td>11.598028</td>\n",
       "      <td>712938289</td>\n",
       "    </tr>\n",
       "    <tr>\n",
       "      <th>2006-01-09 00:00:00-05:00</th>\n",
       "      <td>26.930000</td>\n",
       "      <td>27.070000</td>\n",
       "      <td>26.76</td>\n",
       "      <td>26.860001</td>\n",
       "      <td>19.176794</td>\n",
       "      <td>55625000</td>\n",
       "      <td>2.740357</td>\n",
       "      <td>2.757143</td>\n",
       "      <td>2.705000</td>\n",
       "      <td>2.716071</td>\n",
       "      <td>2.315228</td>\n",
       "      <td>675040800</td>\n",
       "      <td>11.616708</td>\n",
       "      <td>11.790805</td>\n",
       "      <td>11.480468</td>\n",
       "      <td>11.628912</td>\n",
       "      <td>11.628912</td>\n",
       "      <td>513593887</td>\n",
       "    </tr>\n",
       "  </tbody>\n",
       "</table>\n",
       "</div>"
      ],
      "text/plain": [
       "                                MSFT                                          \\\n",
       "                                Open       High    Low      Close  Adj Close   \n",
       "Date                                                                           \n",
       "2006-01-03 00:00:00-05:00  26.250000  27.000000  26.10  26.840000  19.162521   \n",
       "2006-01-04 00:00:00-05:00  26.770000  27.080000  26.77  26.969999  19.255331   \n",
       "2006-01-05 00:00:00-05:00  26.959999  27.129999  26.91  26.990000  19.269609   \n",
       "2006-01-06 00:00:00-05:00  26.889999  27.000000  26.49  26.910000  19.212486   \n",
       "2006-01-09 00:00:00-05:00  26.930000  27.070000  26.76  26.860001  19.176794   \n",
       "\n",
       "                                          AAPL                                \\\n",
       "                              Volume      Open      High       Low     Close   \n",
       "Date                                                                           \n",
       "2006-01-03 00:00:00-05:00   79973000  2.585000  2.669643  2.580357  2.669643   \n",
       "2006-01-04 00:00:00-05:00   57975600  2.683214  2.713571  2.660714  2.677500   \n",
       "2006-01-05 00:00:00-05:00   48245500  2.672500  2.675000  2.633929  2.656429   \n",
       "2006-01-06 00:00:00-05:00  100963000  2.687500  2.739286  2.662500  2.725000   \n",
       "2006-01-09 00:00:00-05:00   55625000  2.740357  2.757143  2.705000  2.716071   \n",
       "\n",
       "                                                     GOOG             \\\n",
       "                          Adj Close     Volume       Open       High   \n",
       "Date                                                                   \n",
       "2006-01-03 00:00:00-05:00  2.275651  807234400  10.523555  10.851077   \n",
       "2006-01-04 00:00:00-05:00  2.282349  619603600  11.056059  11.182087   \n",
       "2006-01-05 00:00:00-05:00  2.264388  449422400  11.108363  11.246595   \n",
       "2006-01-06 00:00:00-05:00  2.322838  704457600  11.379098  11.718576   \n",
       "2006-01-09 00:00:00-05:00  2.315228  675040800  11.616708  11.790805   \n",
       "\n",
       "                                                                       \n",
       "                                 Low      Close  Adj Close     Volume  \n",
       "Date                                                                   \n",
       "2006-01-03 00:00:00-05:00  10.416457  10.840119  10.840119  526815259  \n",
       "2006-01-04 00:00:00-05:00  10.952697  11.089434  11.089434  613747887  \n",
       "2006-01-05 00:00:00-05:00  10.996283  11.238874  11.238874  433952486  \n",
       "2006-01-06 00:00:00-05:00  11.288687  11.598028  11.598028  712938289  \n",
       "2006-01-09 00:00:00-05:00  11.480468  11.628912  11.628912  513593887  "
      ]
     },
     "execution_count": 17,
     "metadata": {},
     "output_type": "execute_result"
    }
   ],
   "source": [
    "tech_stocks.head()"
   ]
  },
  {
   "cell_type": "code",
   "execution_count": 18,
   "metadata": {},
   "outputs": [],
   "source": [
    "tech_stocks.columns.names = ['Ticker', 'Stock Info']"
   ]
  },
  {
   "cell_type": "code",
   "execution_count": 19,
   "metadata": {},
   "outputs": [
    {
     "data": {
      "text/html": [
       "<div>\n",
       "<style scoped>\n",
       "    .dataframe tbody tr th:only-of-type {\n",
       "        vertical-align: middle;\n",
       "    }\n",
       "\n",
       "    .dataframe tbody tr th {\n",
       "        vertical-align: top;\n",
       "    }\n",
       "\n",
       "    .dataframe thead tr th {\n",
       "        text-align: left;\n",
       "    }\n",
       "\n",
       "    .dataframe thead tr:last-of-type th {\n",
       "        text-align: right;\n",
       "    }\n",
       "</style>\n",
       "<table border=\"1\" class=\"dataframe\">\n",
       "  <thead>\n",
       "    <tr>\n",
       "      <th>Ticker</th>\n",
       "      <th colspan=\"6\" halign=\"left\">MSFT</th>\n",
       "      <th colspan=\"6\" halign=\"left\">AAPL</th>\n",
       "      <th colspan=\"6\" halign=\"left\">GOOG</th>\n",
       "    </tr>\n",
       "    <tr>\n",
       "      <th>Stock Info</th>\n",
       "      <th>Open</th>\n",
       "      <th>High</th>\n",
       "      <th>Low</th>\n",
       "      <th>Close</th>\n",
       "      <th>Adj Close</th>\n",
       "      <th>Volume</th>\n",
       "      <th>Open</th>\n",
       "      <th>High</th>\n",
       "      <th>Low</th>\n",
       "      <th>Close</th>\n",
       "      <th>Adj Close</th>\n",
       "      <th>Volume</th>\n",
       "      <th>Open</th>\n",
       "      <th>High</th>\n",
       "      <th>Low</th>\n",
       "      <th>Close</th>\n",
       "      <th>Adj Close</th>\n",
       "      <th>Volume</th>\n",
       "    </tr>\n",
       "    <tr>\n",
       "      <th>Date</th>\n",
       "      <th></th>\n",
       "      <th></th>\n",
       "      <th></th>\n",
       "      <th></th>\n",
       "      <th></th>\n",
       "      <th></th>\n",
       "      <th></th>\n",
       "      <th></th>\n",
       "      <th></th>\n",
       "      <th></th>\n",
       "      <th></th>\n",
       "      <th></th>\n",
       "      <th></th>\n",
       "      <th></th>\n",
       "      <th></th>\n",
       "      <th></th>\n",
       "      <th></th>\n",
       "      <th></th>\n",
       "    </tr>\n",
       "  </thead>\n",
       "  <tbody>\n",
       "    <tr>\n",
       "      <th>2006-01-03 00:00:00-05:00</th>\n",
       "      <td>26.250000</td>\n",
       "      <td>27.000000</td>\n",
       "      <td>26.10</td>\n",
       "      <td>26.840000</td>\n",
       "      <td>19.162521</td>\n",
       "      <td>79973000</td>\n",
       "      <td>2.585000</td>\n",
       "      <td>2.669643</td>\n",
       "      <td>2.580357</td>\n",
       "      <td>2.669643</td>\n",
       "      <td>2.275651</td>\n",
       "      <td>807234400</td>\n",
       "      <td>10.523555</td>\n",
       "      <td>10.851077</td>\n",
       "      <td>10.416457</td>\n",
       "      <td>10.840119</td>\n",
       "      <td>10.840119</td>\n",
       "      <td>526815259</td>\n",
       "    </tr>\n",
       "    <tr>\n",
       "      <th>2006-01-04 00:00:00-05:00</th>\n",
       "      <td>26.770000</td>\n",
       "      <td>27.080000</td>\n",
       "      <td>26.77</td>\n",
       "      <td>26.969999</td>\n",
       "      <td>19.255331</td>\n",
       "      <td>57975600</td>\n",
       "      <td>2.683214</td>\n",
       "      <td>2.713571</td>\n",
       "      <td>2.660714</td>\n",
       "      <td>2.677500</td>\n",
       "      <td>2.282349</td>\n",
       "      <td>619603600</td>\n",
       "      <td>11.056059</td>\n",
       "      <td>11.182087</td>\n",
       "      <td>10.952697</td>\n",
       "      <td>11.089434</td>\n",
       "      <td>11.089434</td>\n",
       "      <td>613747887</td>\n",
       "    </tr>\n",
       "    <tr>\n",
       "      <th>2006-01-05 00:00:00-05:00</th>\n",
       "      <td>26.959999</td>\n",
       "      <td>27.129999</td>\n",
       "      <td>26.91</td>\n",
       "      <td>26.990000</td>\n",
       "      <td>19.269609</td>\n",
       "      <td>48245500</td>\n",
       "      <td>2.672500</td>\n",
       "      <td>2.675000</td>\n",
       "      <td>2.633929</td>\n",
       "      <td>2.656429</td>\n",
       "      <td>2.264388</td>\n",
       "      <td>449422400</td>\n",
       "      <td>11.108363</td>\n",
       "      <td>11.246595</td>\n",
       "      <td>10.996283</td>\n",
       "      <td>11.238874</td>\n",
       "      <td>11.238874</td>\n",
       "      <td>433952486</td>\n",
       "    </tr>\n",
       "    <tr>\n",
       "      <th>2006-01-06 00:00:00-05:00</th>\n",
       "      <td>26.889999</td>\n",
       "      <td>27.000000</td>\n",
       "      <td>26.49</td>\n",
       "      <td>26.910000</td>\n",
       "      <td>19.212486</td>\n",
       "      <td>100963000</td>\n",
       "      <td>2.687500</td>\n",
       "      <td>2.739286</td>\n",
       "      <td>2.662500</td>\n",
       "      <td>2.725000</td>\n",
       "      <td>2.322838</td>\n",
       "      <td>704457600</td>\n",
       "      <td>11.379098</td>\n",
       "      <td>11.718576</td>\n",
       "      <td>11.288687</td>\n",
       "      <td>11.598028</td>\n",
       "      <td>11.598028</td>\n",
       "      <td>712938289</td>\n",
       "    </tr>\n",
       "    <tr>\n",
       "      <th>2006-01-09 00:00:00-05:00</th>\n",
       "      <td>26.930000</td>\n",
       "      <td>27.070000</td>\n",
       "      <td>26.76</td>\n",
       "      <td>26.860001</td>\n",
       "      <td>19.176794</td>\n",
       "      <td>55625000</td>\n",
       "      <td>2.740357</td>\n",
       "      <td>2.757143</td>\n",
       "      <td>2.705000</td>\n",
       "      <td>2.716071</td>\n",
       "      <td>2.315228</td>\n",
       "      <td>675040800</td>\n",
       "      <td>11.616708</td>\n",
       "      <td>11.790805</td>\n",
       "      <td>11.480468</td>\n",
       "      <td>11.628912</td>\n",
       "      <td>11.628912</td>\n",
       "      <td>513593887</td>\n",
       "    </tr>\n",
       "  </tbody>\n",
       "</table>\n",
       "</div>"
      ],
      "text/plain": [
       "Ticker                          MSFT                                          \\\n",
       "Stock Info                      Open       High    Low      Close  Adj Close   \n",
       "Date                                                                           \n",
       "2006-01-03 00:00:00-05:00  26.250000  27.000000  26.10  26.840000  19.162521   \n",
       "2006-01-04 00:00:00-05:00  26.770000  27.080000  26.77  26.969999  19.255331   \n",
       "2006-01-05 00:00:00-05:00  26.959999  27.129999  26.91  26.990000  19.269609   \n",
       "2006-01-06 00:00:00-05:00  26.889999  27.000000  26.49  26.910000  19.212486   \n",
       "2006-01-09 00:00:00-05:00  26.930000  27.070000  26.76  26.860001  19.176794   \n",
       "\n",
       "Ticker                                    AAPL                                \\\n",
       "Stock Info                    Volume      Open      High       Low     Close   \n",
       "Date                                                                           \n",
       "2006-01-03 00:00:00-05:00   79973000  2.585000  2.669643  2.580357  2.669643   \n",
       "2006-01-04 00:00:00-05:00   57975600  2.683214  2.713571  2.660714  2.677500   \n",
       "2006-01-05 00:00:00-05:00   48245500  2.672500  2.675000  2.633929  2.656429   \n",
       "2006-01-06 00:00:00-05:00  100963000  2.687500  2.739286  2.662500  2.725000   \n",
       "2006-01-09 00:00:00-05:00   55625000  2.740357  2.757143  2.705000  2.716071   \n",
       "\n",
       "Ticker                                               GOOG             \\\n",
       "Stock Info                Adj Close     Volume       Open       High   \n",
       "Date                                                                   \n",
       "2006-01-03 00:00:00-05:00  2.275651  807234400  10.523555  10.851077   \n",
       "2006-01-04 00:00:00-05:00  2.282349  619603600  11.056059  11.182087   \n",
       "2006-01-05 00:00:00-05:00  2.264388  449422400  11.108363  11.246595   \n",
       "2006-01-06 00:00:00-05:00  2.322838  704457600  11.379098  11.718576   \n",
       "2006-01-09 00:00:00-05:00  2.315228  675040800  11.616708  11.790805   \n",
       "\n",
       "Ticker                                                                 \n",
       "Stock Info                       Low      Close  Adj Close     Volume  \n",
       "Date                                                                   \n",
       "2006-01-03 00:00:00-05:00  10.416457  10.840119  10.840119  526815259  \n",
       "2006-01-04 00:00:00-05:00  10.952697  11.089434  11.089434  613747887  \n",
       "2006-01-05 00:00:00-05:00  10.996283  11.238874  11.238874  433952486  \n",
       "2006-01-06 00:00:00-05:00  11.288687  11.598028  11.598028  712938289  \n",
       "2006-01-09 00:00:00-05:00  11.480468  11.628912  11.628912  513593887  "
      ]
     },
     "execution_count": 19,
     "metadata": {},
     "output_type": "execute_result"
    }
   ],
   "source": [
    "tech_stocks.head()"
   ]
  },
  {
   "attachments": {},
   "cell_type": "markdown",
   "metadata": {},
   "source": [
    "**Maximum Closing price of Each.**"
   ]
  },
  {
   "cell_type": "code",
   "execution_count": 20,
   "metadata": {},
   "outputs": [
    {
     "data": {
      "text/plain": [
       "Ticker\n",
       "MSFT    56.549999\n",
       "AAPL    33.250000\n",
       "GOOG    38.830002\n",
       "dtype: float64"
      ]
     },
     "execution_count": 20,
     "metadata": {},
     "output_type": "execute_result"
    }
   ],
   "source": [
    "tech_stocks.xs(key='Close', axis=1, level='Stock Info').max()"
   ]
  },
  {
   "cell_type": "code",
   "execution_count": 21,
   "metadata": {},
   "outputs": [
    {
     "name": "stdout",
     "output_type": "stream",
     "text": [
      "MSFT 56.54999923706055\n",
      "AAPL 33.25\n",
      "GOOG 38.83000183105469\n"
     ]
    }
   ],
   "source": [
    "#second method\n",
    "#tech_stocks['MSFT']['Close'].max()\n",
    "\n",
    "for tick in tickers:\n",
    "    print(tick, tech_stocks[tick]['Close'].max())"
   ]
  },
  {
   "attachments": {},
   "cell_type": "markdown",
   "metadata": {},
   "source": [
    "**Q.2: Create a new empty DataFrame called returns. This dataframe will contain the returns for each bank's stock. returns are typically defined by:**\n",
    "\n",
    "$$r_t = \\frac{p_t - p_{t-1}}{p_{t-1}} = \\frac{p_t}{p_{t-1}} - 1$$"
   ]
  },
  {
   "cell_type": "code",
   "execution_count": 22,
   "metadata": {},
   "outputs": [],
   "source": [
    "returns = pd.DataFrame()"
   ]
  },
  {
   "attachments": {},
   "cell_type": "markdown",
   "metadata": {},
   "source": [
    "**Q.3: We can use pandas pct_change() method on the Close column to create a column representing this return value. Create a for loop that goes and for each Bank Stock Ticker creates this returns column and set's it as a column in the returns DataFrame.**"
   ]
  },
  {
   "cell_type": "code",
   "execution_count": 23,
   "metadata": {},
   "outputs": [
    {
     "data": {
      "text/plain": [
       "['MSFT', 'AAPL', 'GOOG']"
      ]
     },
     "execution_count": 23,
     "metadata": {},
     "output_type": "execute_result"
    }
   ],
   "source": [
    "tickers"
   ]
  },
  {
   "cell_type": "code",
   "execution_count": 24,
   "metadata": {},
   "outputs": [],
   "source": [
    "for tick in tickers:\n",
    "    returns[tick + ' Returns'] = tech_stocks[tick]['Close'].pct_change()"
   ]
  },
  {
   "cell_type": "code",
   "execution_count": 25,
   "metadata": {},
   "outputs": [
    {
     "data": {
      "text/html": [
       "<div>\n",
       "<style scoped>\n",
       "    .dataframe tbody tr th:only-of-type {\n",
       "        vertical-align: middle;\n",
       "    }\n",
       "\n",
       "    .dataframe tbody tr th {\n",
       "        vertical-align: top;\n",
       "    }\n",
       "\n",
       "    .dataframe thead th {\n",
       "        text-align: right;\n",
       "    }\n",
       "</style>\n",
       "<table border=\"1\" class=\"dataframe\">\n",
       "  <thead>\n",
       "    <tr style=\"text-align: right;\">\n",
       "      <th></th>\n",
       "      <th>MSFT Returns</th>\n",
       "      <th>AAPL Returns</th>\n",
       "      <th>GOOG Returns</th>\n",
       "    </tr>\n",
       "    <tr>\n",
       "      <th>Date</th>\n",
       "      <th></th>\n",
       "      <th></th>\n",
       "      <th></th>\n",
       "    </tr>\n",
       "  </thead>\n",
       "  <tbody>\n",
       "    <tr>\n",
       "      <th>2006-01-03 00:00:00-05:00</th>\n",
       "      <td>NaN</td>\n",
       "      <td>NaN</td>\n",
       "      <td>NaN</td>\n",
       "    </tr>\n",
       "    <tr>\n",
       "      <th>2006-01-04 00:00:00-05:00</th>\n",
       "      <td>0.004843</td>\n",
       "      <td>0.002943</td>\n",
       "      <td>0.022999</td>\n",
       "    </tr>\n",
       "    <tr>\n",
       "      <th>2006-01-05 00:00:00-05:00</th>\n",
       "      <td>0.000742</td>\n",
       "      <td>-0.007870</td>\n",
       "      <td>0.013476</td>\n",
       "    </tr>\n",
       "    <tr>\n",
       "      <th>2006-01-06 00:00:00-05:00</th>\n",
       "      <td>-0.002964</td>\n",
       "      <td>0.025813</td>\n",
       "      <td>0.031956</td>\n",
       "    </tr>\n",
       "    <tr>\n",
       "      <th>2006-01-09 00:00:00-05:00</th>\n",
       "      <td>-0.001858</td>\n",
       "      <td>-0.003277</td>\n",
       "      <td>0.002663</td>\n",
       "    </tr>\n",
       "  </tbody>\n",
       "</table>\n",
       "</div>"
      ],
      "text/plain": [
       "                           MSFT Returns  AAPL Returns  GOOG Returns\n",
       "Date                                                               \n",
       "2006-01-03 00:00:00-05:00           NaN           NaN           NaN\n",
       "2006-01-04 00:00:00-05:00      0.004843      0.002943      0.022999\n",
       "2006-01-05 00:00:00-05:00      0.000742     -0.007870      0.013476\n",
       "2006-01-06 00:00:00-05:00     -0.002964      0.025813      0.031956\n",
       "2006-01-09 00:00:00-05:00     -0.001858     -0.003277      0.002663"
      ]
     },
     "execution_count": 25,
     "metadata": {},
     "output_type": "execute_result"
    }
   ],
   "source": [
    "returns.head()\n",
    "#returns.drop(['MSFTReturns', 'AAPLReturns', 'GOOGReturns'], axis=1 , inplace=True)"
   ]
  },
  {
   "attachments": {},
   "cell_type": "markdown",
   "metadata": {},
   "source": [
    "### Visuaalization\n",
    "---"
   ]
  },
  {
   "cell_type": "code",
   "execution_count": 26,
   "metadata": {},
   "outputs": [],
   "source": [
    "import seaborn as sns"
   ]
  },
  {
   "cell_type": "code",
   "execution_count": 27,
   "metadata": {},
   "outputs": [
    {
     "data": {
      "text/plain": [
       "<seaborn.axisgrid.PairGrid at 0x29b8c309820>"
      ]
     },
     "execution_count": 27,
     "metadata": {},
     "output_type": "execute_result"
    },
    {
     "data": {
      "image/png": "[encoded data removed]",
      "text/plain": [
       "<Figure size 540x540 with 12 Axes>"
      ]
     },
     "metadata": {
      "needs_background": "light"
     },
     "output_type": "display_data"
    }
   ],
   "source": [
    "sns.pairplot(returns)"
   ]
  },
  {
   "attachments": {},
   "cell_type": "markdown",
   "metadata": {},
   "source": [
    "**Q.4: Using this returns DataFrame, figure out on what dates each stock had the best and worst single day returns.?**"
   ]
  },
  {
   "cell_type": "code",
   "execution_count": 45,
   "metadata": {},
   "outputs": [
    {
     "data": {
      "text/plain": [
       "768"
      ]
     },
     "execution_count": 45,
     "metadata": {},
     "output_type": "execute_result"
    }
   ],
   "source": [
    "returns['MSFT Returns'].argmin()"
   ]
  },
  {
   "cell_type": "code",
   "execution_count": 37,
   "metadata": {},
   "outputs": [
    {
     "data": {
      "text/plain": [
       "MSFT Returns   2009-01-22 00:00:00-05:00\n",
       "AAPL Returns   2008-09-29 00:00:00-04:00\n",
       "GOOG Returns   2008-09-29 00:00:00-04:00\n",
       "dtype: datetime64[ns, America/New_York]"
      ]
     },
     "execution_count": 37,
     "metadata": {},
     "output_type": "execute_result"
    }
   ],
   "source": [
    "returns.idxmin()"
   ]
  },
  {
   "cell_type": "code",
   "execution_count": 38,
   "metadata": {},
   "outputs": [
    {
     "data": {
      "text/plain": [
       "MSFT Returns   2008-10-13 00:00:00-04:00\n",
       "AAPL Returns   2008-10-13 00:00:00-04:00\n",
       "GOOG Returns   2008-04-18 00:00:00-04:00\n",
       "dtype: datetime64[ns, America/New_York]"
      ]
     },
     "execution_count": 38,
     "metadata": {},
     "output_type": "execute_result"
    }
   ],
   "source": [
    "returns.idxmax()"
   ]
  },
  {
   "attachments": {},
   "cell_type": "markdown",
   "metadata": {},
   "source": [
    "### Standard deviations and 2015 Std\n",
    "---"
   ]
  },
  {
   "cell_type": "code",
   "execution_count": 46,
   "metadata": {},
   "outputs": [
    {
     "data": {
      "text/plain": [
       "MSFT Returns    0.017764\n",
       "AAPL Returns    0.021599\n",
       "GOOG Returns    0.019610\n",
       "dtype: float64"
      ]
     },
     "execution_count": 46,
     "metadata": {},
     "output_type": "execute_result"
    }
   ],
   "source": [
    "returns.std()"
   ]
  },
  {
   "cell_type": "code",
   "execution_count": 48,
   "metadata": {},
   "outputs": [
    {
     "data": {
      "text/plain": [
       "MSFT Returns    0.017801\n",
       "AAPL Returns    0.016841\n",
       "GOOG Returns    0.018586\n",
       "dtype: float64"
      ]
     },
     "execution_count": 48,
     "metadata": {},
     "output_type": "execute_result"
    }
   ],
   "source": [
    "returns['2015-01-01':'2015-12-31'].std()"
   ]
  },
  {
   "attachments": {},
   "cell_type": "markdown",
   "metadata": {},
   "source": [
    "**Q:Create a distplot using seaborn of the 2015 returns for AAPL**"
   ]
  },
  {
   "cell_type": "code",
   "execution_count": 54,
   "metadata": {},
   "outputs": [
    {
     "data": {
      "text/plain": [
       "<AxesSubplot:xlabel='AAPL Returns', ylabel='Count'>"
      ]
     },
     "execution_count": 54,
     "metadata": {},
     "output_type": "execute_result"
    },
    {
     "data": {
      "image/png": "[encoded data removed]",
      "text/plain": [
       "<Figure size 432x288 with 1 Axes>"
      ]
     },
     "metadata": {
      "needs_background": "light"
     },
     "output_type": "display_data"
    }
   ],
   "source": [
    "sns.histplot(returns['2015-01-01':'2015-12-31']['AAPL Returns'],color='green', kde=True, bins = 30)"
   ]
  },
  {
   "attachments": {},
   "cell_type": "markdown",
   "metadata": {},
   "source": [
    "**Q:Create a distplot using seaborn of the 2008 returns for GOOG**"
   ]
  },
  {
   "cell_type": "code",
   "execution_count": 59,
   "metadata": {},
   "outputs": [
    {
     "data": {
      "text/plain": [
       "<AxesSubplot:xlabel='GOOG Returns', ylabel='Count'>"
      ]
     },
     "execution_count": 59,
     "metadata": {},
     "output_type": "execute_result"
    },
    {
     "data": {
      "image/png": "[encoded data removed]",
      "text/plain": [
       "<Figure size 432x288 with 1 Axes>"
      ]
     },
     "metadata": {
      "needs_background": "light"
     },
     "output_type": "display_data"
    }
   ],
   "source": [
    "sns.histplot(returns['2008-01-01':'2008-12-31']['GOOG Returns'],color='red', kde=True, bins = 30)"
   ]
  },
  {
   "attachments": {},
   "cell_type": "markdown",
   "metadata": {},
   "source": [
    "## More Visualizations\n",
    "---"
   ]
  },
  {
   "cell_type": "code",
   "execution_count": 60,
   "metadata": {},
   "outputs": [
    {
     "data": {
      "text/plain": [
       "<function cufflinks.offline.go_offline(connected=None)>"
      ]
     },
     "execution_count": 60,
     "metadata": {},
     "output_type": "execute_result"
    }
   ],
   "source": [
    "import matplotlib.pyplot as plt\n",
    "import seaborn as sns\n",
    "sns.set_style('whitegrid')\n",
    "\n",
    "import plotly\n",
    "import cufflinks as cf\n",
    "cf.go_offline"
   ]
  },
  {
   "attachments": {},
   "cell_type": "markdown",
   "metadata": {},
   "source": [
    "**Create a line plot showing Close price for each company for the entire index of time. (Hint: try using a for loop or use .xs to get a cross section of the data.)**"
   ]
  },
  {
   "cell_type": "code",
   "execution_count": 66,
   "metadata": {},
   "outputs": [
    {
     "data": {
      "text/plain": [
       "<matplotlib.legend.Legend at 0x29b90d4d550>"
      ]
     },
     "execution_count": 66,
     "metadata": {},
     "output_type": "execute_result"
    },
    {
     "data": {
      "image/png": "[encoded data removed]",
      "text/plain": [
       "<Figure size 1008x432 with 1 Axes>"
      ]
     },
     "metadata": {},
     "output_type": "display_data"
    }
   ],
   "source": [
    "#using loop\n",
    "for tick in tickers:\n",
    "    tech_stocks[tick]['Close'].plot(figsize=(14,6),label=tick)\n",
    "plt.legend()"
   ]
  },
  {
   "cell_type": "code",
   "execution_count": 70,
   "metadata": {},
   "outputs": [
    {
     "data": {
      "text/plain": [
       "<AxesSubplot:xlabel='Date'>"
      ]
     },
     "execution_count": 70,
     "metadata": {},
     "output_type": "execute_result"
    },
    {
     "data": {
      "text/plain": [
       "<Figure size 1008x432 with 0 Axes>"
      ]
     },
     "metadata": {},
     "output_type": "display_data"
    },
    {
     "data": {
      "image/png": "[encoded data removed]",
      "text/plain": [
       "<Figure size 1008x432 with 1 Axes>"
      ]
     },
     "metadata": {},
     "output_type": "display_data"
    }
   ],
   "source": [
    "#using xs\n",
    "tech_stocks.xs(key='Close', axis=1, level='Stock Info').plot(figsize=(14,6))"
   ]
  },
  {
   "cell_type": "code",
   "execution_count": null,
   "metadata": {},
   "outputs": [],
   "source": []
  }
 ],
 "metadata": {
  "kernelspec": {
   "display_name": "base",
   "language": "python",
   "name": "python3"
  },
  "language_info": {
   "codemirror_mode": {
    "name": "ipython",
    "version": 3
   },
   "file_extension": ".py",
   "mimetype": "text/x-python",
   "name": "python",
   "nbconvert_exporter": "python",
   "pygments_lexer": "ipython3",
   "version": "3.9.7"
  },
  "orig_nbformat": 4,
  "vscode": {
   "interpreter": {
    "hash": "9c956a0fead4c72a03fcd50e350ccd8f8f854be3150d190c39ee1672b6e373ee"
   }
  }
 },
 "nbformat": 4,
 "nbformat_minor": 2
}
